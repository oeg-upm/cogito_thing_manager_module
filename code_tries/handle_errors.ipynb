{
 "cells": [
  {
   "cell_type": "code",
   "execution_count": 6,
   "metadata": {},
   "outputs": [
    {
     "data": {
      "text/plain": [
       "{'in_process': [{'project_id': '1', 'file_id': None},\n",
       "  {'project_id': '2', 'file_id': None},\n",
       "  {'project_id': '3', 'file_id': None}],\n",
       " 'completed': [{'project_id': '0', 'file_id': None},\n",
       "  {'project_id': '2', 'file_id': None},\n",
       "  {'project_id': '3', 'file_id': None}],\n",
       " 'error': []}"
      ]
     },
     "execution_count": 6,
     "metadata": {},
     "output_type": "execute_result"
    }
   ],
   "source": [
    "hello = {\n",
    "            \"in_process\": [\n",
    "                {\n",
    "                    \"project_id\": \"1\",\n",
    "                    \"file_id\": None,\n",
    "                },\n",
    "                {\n",
    "                    \"project_id\": \"2\",\n",
    "                    \"file_id\": None,\n",
    "                },\n",
    "                {\n",
    "                    \"project_id\": \"3\",\n",
    "                    \"file_id\": None,\n",
    "                }\n",
    "            ],\n",
    "            \"completed\": [\n",
    "                {\n",
    "                    \"project_id\": \"0\",\n",
    "                    \"file_id\": None,\n",
    "                },\n",
    "                {\n",
    "                    \"project_id\": \"2\",\n",
    "                    \"file_id\": None,\n",
    "                },\n",
    "                {\n",
    "                    \"project_id\": \"3\",\n",
    "                    \"file_id\": None,\n",
    "                }\n",
    "            ],\n",
    "            \"error\": []\n",
    "        }\n",
    "hello"
   ]
  },
  {
   "cell_type": "code",
   "execution_count": 66,
   "metadata": {},
   "outputs": [],
   "source": [
    "def funct(project_id, file_id=None):\n",
    "    [hello[\"in_process\"].pop(hello[\"in_process\"].index(elem)) for elem in hello[\"in_process\"] if elem[\"project_id\"] == project_id and elem[\"file_id\"] == file_id]\n",
    "\n",
    "    print(hello)"
   ]
  },
  {
   "cell_type": "code",
   "execution_count": 67,
   "metadata": {},
   "outputs": [
    {
     "name": "stdout",
     "output_type": "stream",
     "text": [
      "{'in_process': [{'project_id': '2', 'file_id': None}, {'project_id': '3', 'file_id': None}], 'completed': [{'project_id': '0', 'file_id': None}, {'project_id': '2', 'file_id': None}, {'project_id': '3', 'file_id': None}], 'error': [{'project_id': '0', 'file_id': None}, {'project_id': '2', 'file_id': None}, {'project_id': '3', 'file_id': None}]}\n"
     ]
    }
   ],
   "source": [
    "funct(\"1\")"
   ]
  },
  {
   "cell_type": "code",
   "execution_count": 2,
   "metadata": {},
   "outputs": [],
   "source": [
    "def funct2(project_id, file_id=None):\n",
    "    events = [\"in_process\", \"completed\", \"error\"]\n",
    "    res = [[event for elem in hello[event] if elem[\"project_id\"] == project_id and elem[\"file_id\"] == file_id] for event in events]\n",
    "    r = [r[0] for r in res if r != []]\n",
    "    return r\n",
    "\n",
    "    "
   ]
  },
  {
   "cell_type": "code",
   "execution_count": 7,
   "metadata": {},
   "outputs": [
    {
     "data": {
      "text/plain": [
       "[]"
      ]
     },
     "execution_count": 7,
     "metadata": {},
     "output_type": "execute_result"
    }
   ],
   "source": [
    "funct2(\"12\", \"456\")"
   ]
  },
  {
   "cell_type": "code",
   "execution_count": 73,
   "metadata": {},
   "outputs": [],
   "source": [
    "hello[\"in_process\"].append({\"project_id\": \"1234\", \"file_id\": None})"
   ]
  },
  {
   "cell_type": "code",
   "execution_count": 74,
   "metadata": {},
   "outputs": [
    {
     "data": {
      "text/plain": [
       "{'in_process': [{'project_id': '1', 'file_id': None},\n",
       "  {'project_id': '2', 'file_id': None},\n",
       "  {'project_id': '3', 'file_id': None},\n",
       "  {'project_id': '1234', 'file_id': None}],\n",
       " 'completed': [{'project_id': '0', 'file_id': None},\n",
       "  {'project_id': '2', 'file_id': None},\n",
       "  {'project_id': '3', 'file_id': None}],\n",
       " 'error': [{'project_id': '0', 'file_id': None},\n",
       "  {'project_id': '2', 'file_id': None},\n",
       "  {'project_id': '3', 'file_id': None}]}"
      ]
     },
     "execution_count": 74,
     "metadata": {},
     "output_type": "execute_result"
    }
   ],
   "source": [
    "hello"
   ]
  }
 ],
 "metadata": {
  "kernelspec": {
   "display_name": "Python 3.10.2 64-bit ('3.10.2')",
   "language": "python",
   "name": "python3"
  },
  "language_info": {
   "codemirror_mode": {
    "name": "ipython",
    "version": 3
   },
   "file_extension": ".py",
   "mimetype": "text/x-python",
   "name": "python",
   "nbconvert_exporter": "python",
   "pygments_lexer": "ipython3",
   "version": "3.10.2"
  },
  "orig_nbformat": 4,
  "vscode": {
   "interpreter": {
    "hash": "a9c44c8ff930b067c6bc3f134a348d3cb9f19f01dfb46c39e0c18c228169b636"
   }
  }
 },
 "nbformat": 4,
 "nbformat_minor": 2
}
